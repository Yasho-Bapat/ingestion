{
 "cells": [
  {
   "cell_type": "code",
   "id": "initial_id",
   "metadata": {
    "collapsed": true,
    "ExecuteTime": {
     "end_time": "2024-07-05T10:03:23.369468Z",
     "start_time": "2024-07-05T10:03:16.841989Z"
    }
   },
   "source": "import pandas as pd",
   "outputs": [],
   "execution_count": 2
  },
  {
   "metadata": {
    "ExecuteTime": {
     "end_time": "2024-07-05T10:08:14.754245Z",
     "start_time": "2024-07-05T10:08:14.708756Z"
    }
   },
   "cell_type": "code",
   "source": [
    "data = pd.read_json(\"json_dump/cumulative_result.json\")\n",
    "data.head()"
   ],
   "id": "c06ca6bdcf01d3ae",
   "outputs": [
    {
     "data": {
      "text/plain": [
       "                                       document_name  \\\n",
       "0                           1.1 SDS Havaklean KP.PDF   \n",
       "1  11.1 SDS ROUND COMBINATION BENCH STONE 4 X 1 I...   \n",
       "2               12.1 SDS AMMONIUM HYDROXIDE- 50%.pdf   \n",
       "3   3.1 Ethyl_Alcohol_Material Safety Data Sheet.pdf   \n",
       "4      31.1 SDS_3M Abrasive Products, 341D Belts.pdf   \n",
       "\n",
       "                                          regulatory  \\\n",
       "0  {'result': {'countries': ['Unknown'], 'agency'...   \n",
       "1  {'result': {'countries': ['Japan', 'South Kore...   \n",
       "2  {'result': {'countries': ['United States'], 'a...   \n",
       "3  {'result': {'countries': ['United States', 'Ca...   \n",
       "4  {'result': {'countries': ['United States'], 'a...   \n",
       "\n",
       "                                   eco_toxicological  \\\n",
       "0  {'result': {'toxicity': [{'name': 'Trade Secre...   \n",
       "1  {'result': {'toxicity': [{'name': 'Aluminum Ox...   \n",
       "2  {'result': {'toxicity': [{'name': 'Ammonium Hy...   \n",
       "3  {'result': {'toxicity': [{'name': 'CAS# 64-17-...   \n",
       "4  {'result': {'toxicity': [], 'other': ['Please ...   \n",
       "\n",
       "                                stability_reactivity  \\\n",
       "0  {'result': {'reactivity': 'Unknown', 'stabilit...   \n",
       "1  {'result': {'reactivity': 'Not applicable.', '...   \n",
       "2  {'result': {'reactivity': 'Not Applicable', 's...   \n",
       "3  {'result': {'reactivity': 'Unknown', 'stabilit...   \n",
       "4  {'result': {'reactivity': 'This material is co...   \n",
       "\n",
       "                                       material_info  \\\n",
       "0  {'result': {'composition': [{'name': 'Potassiu...   \n",
       "1  {'result': {'composition': [{'name': 'Aluminum...   \n",
       "2  {'result': {'composition': [{'name': 'Ammonium...   \n",
       "3  {'result': {'composition': [{'name': 'Ethyl al...   \n",
       "4  {'result': {'composition': [{'name': 'Aluminum...   \n",
       "\n",
       "                                      identification  \\\n",
       "0  {'result': {'material_name': 'Unknown', 'manuf...   \n",
       "1  {'result': {'material_name': 'Vitrified Bonded...   \n",
       "2  {'result': {'material_name': 'Unknown', 'manuf...   \n",
       "3  {'result': {'material_name': 'Ethyl alcohol', ...   \n",
       "4  {'result': {'material_name': '3M™Abrasive Prod...   \n",
       "\n",
       "                                       toxicological  total_cost  \n",
       "0  {'result': {'toxicity': [{'name': 'Phosphoric ...         NaN  \n",
       "1  {'result': {'toxicity': [{'name': 'Aluminum Ox...         NaN  \n",
       "2  {'result': {'toxicity': [{'name': 'Ammonium Hy...         NaN  \n",
       "3  {'result': {'toxicity': [{'name': 'CAS# 64-17-...         NaN  \n",
       "4  {'result': {'toxicity': [{'name': 'Overall pro...         NaN  "
      ],
      "text/html": [
       "<div>\n",
       "<style scoped>\n",
       "    .dataframe tbody tr th:only-of-type {\n",
       "        vertical-align: middle;\n",
       "    }\n",
       "\n",
       "    .dataframe tbody tr th {\n",
       "        vertical-align: top;\n",
       "    }\n",
       "\n",
       "    .dataframe thead th {\n",
       "        text-align: right;\n",
       "    }\n",
       "</style>\n",
       "<table border=\"1\" class=\"dataframe\">\n",
       "  <thead>\n",
       "    <tr style=\"text-align: right;\">\n",
       "      <th></th>\n",
       "      <th>document_name</th>\n",
       "      <th>regulatory</th>\n",
       "      <th>eco_toxicological</th>\n",
       "      <th>stability_reactivity</th>\n",
       "      <th>material_info</th>\n",
       "      <th>identification</th>\n",
       "      <th>toxicological</th>\n",
       "      <th>total_cost</th>\n",
       "    </tr>\n",
       "  </thead>\n",
       "  <tbody>\n",
       "    <tr>\n",
       "      <th>0</th>\n",
       "      <td>1.1 SDS Havaklean KP.PDF</td>\n",
       "      <td>{'result': {'countries': ['Unknown'], 'agency'...</td>\n",
       "      <td>{'result': {'toxicity': [{'name': 'Trade Secre...</td>\n",
       "      <td>{'result': {'reactivity': 'Unknown', 'stabilit...</td>\n",
       "      <td>{'result': {'composition': [{'name': 'Potassiu...</td>\n",
       "      <td>{'result': {'material_name': 'Unknown', 'manuf...</td>\n",
       "      <td>{'result': {'toxicity': [{'name': 'Phosphoric ...</td>\n",
       "      <td>NaN</td>\n",
       "    </tr>\n",
       "    <tr>\n",
       "      <th>1</th>\n",
       "      <td>11.1 SDS ROUND COMBINATION BENCH STONE 4 X 1 I...</td>\n",
       "      <td>{'result': {'countries': ['Japan', 'South Kore...</td>\n",
       "      <td>{'result': {'toxicity': [{'name': 'Aluminum Ox...</td>\n",
       "      <td>{'result': {'reactivity': 'Not applicable.', '...</td>\n",
       "      <td>{'result': {'composition': [{'name': 'Aluminum...</td>\n",
       "      <td>{'result': {'material_name': 'Vitrified Bonded...</td>\n",
       "      <td>{'result': {'toxicity': [{'name': 'Aluminum Ox...</td>\n",
       "      <td>NaN</td>\n",
       "    </tr>\n",
       "    <tr>\n",
       "      <th>2</th>\n",
       "      <td>12.1 SDS AMMONIUM HYDROXIDE- 50%.pdf</td>\n",
       "      <td>{'result': {'countries': ['United States'], 'a...</td>\n",
       "      <td>{'result': {'toxicity': [{'name': 'Ammonium Hy...</td>\n",
       "      <td>{'result': {'reactivity': 'Not Applicable', 's...</td>\n",
       "      <td>{'result': {'composition': [{'name': 'Ammonium...</td>\n",
       "      <td>{'result': {'material_name': 'Unknown', 'manuf...</td>\n",
       "      <td>{'result': {'toxicity': [{'name': 'Ammonium Hy...</td>\n",
       "      <td>NaN</td>\n",
       "    </tr>\n",
       "    <tr>\n",
       "      <th>3</th>\n",
       "      <td>3.1 Ethyl_Alcohol_Material Safety Data Sheet.pdf</td>\n",
       "      <td>{'result': {'countries': ['United States', 'Ca...</td>\n",
       "      <td>{'result': {'toxicity': [{'name': 'CAS# 64-17-...</td>\n",
       "      <td>{'result': {'reactivity': 'Unknown', 'stabilit...</td>\n",
       "      <td>{'result': {'composition': [{'name': 'Ethyl al...</td>\n",
       "      <td>{'result': {'material_name': 'Ethyl alcohol', ...</td>\n",
       "      <td>{'result': {'toxicity': [{'name': 'CAS# 64-17-...</td>\n",
       "      <td>NaN</td>\n",
       "    </tr>\n",
       "    <tr>\n",
       "      <th>4</th>\n",
       "      <td>31.1 SDS_3M Abrasive Products, 341D Belts.pdf</td>\n",
       "      <td>{'result': {'countries': ['United States'], 'a...</td>\n",
       "      <td>{'result': {'toxicity': [], 'other': ['Please ...</td>\n",
       "      <td>{'result': {'reactivity': 'This material is co...</td>\n",
       "      <td>{'result': {'composition': [{'name': 'Aluminum...</td>\n",
       "      <td>{'result': {'material_name': '3M™Abrasive Prod...</td>\n",
       "      <td>{'result': {'toxicity': [{'name': 'Overall pro...</td>\n",
       "      <td>NaN</td>\n",
       "    </tr>\n",
       "  </tbody>\n",
       "</table>\n",
       "</div>"
      ]
     },
     "execution_count": 15,
     "metadata": {},
     "output_type": "execute_result"
    }
   ],
   "execution_count": 15
  },
  {
   "metadata": {
    "ExecuteTime": {
     "end_time": "2024-07-05T10:18:39.516948Z",
     "start_time": "2024-07-05T10:18:39.511708Z"
    }
   },
   "cell_type": "code",
   "source": [
    "for i in range(len(data)):\n",
    "    print(data.iloc[i][\"regulatory\"][\"result\"])"
   ],
   "id": "342ac71623a1c2d6",
   "outputs": [
    {
     "name": "stdout",
     "output_type": "stream",
     "text": [
      "{'countries': ['Unknown'], 'agency': ['CERCLA/SARA']}\n",
      "{'countries': ['Japan', 'South Korea', 'Australia', 'Canada', 'United States'], 'agency': ['ENCS', 'EINECS', 'KECL', 'AICS', 'DSL', 'TSCA', 'ACGIH', 'NIOSH', 'OSHA', 'IARC', 'NTP', 'EPA']}\n",
      "{'countries': ['United States'], 'agency': ['Occupational Safety and Health Administration (OSHA)', 'Superfund Amendments and Reauthorization Act (SARA)', 'Massachusetts Right-to-Know Substance List']}\n",
      "{'countries': ['United States', 'Canada', 'European Union'], 'agency': ['TSCA', 'CERCLA', 'SARA', 'Clean Air Act', 'Clean Water Act', 'OSHA', 'California Prop 65', 'EC Directives', 'WHMIS']}\n",
      "{'countries': ['United States'], 'agency': ['U.S. OSHA Hazard Communication Standard, 29 CFR 1910.1200']}\n",
      "{'countries': ['Japan', 'South Korea', 'Australia', 'Canada'], 'agency': ['EPA', 'ACGIH', 'NIOSH', 'OSHA', 'IARC', 'NTP', 'Mexico', 'Canadian Hazardous Products Act']}\n",
      "{'countries': ['US'], 'agency': ['US OSHA', 'US Dept of Labor - OSHA', 'Amer Conf of Gov. Indust. Hyg.', 'American Indust. Hygiene Assoc', 'Chemical Manufacturer Rec Guid']}\n",
      "{'countries': ['United States', 'Australia', 'Canada', 'China', 'Europe', 'Japan', 'Korea', 'New Zealand', 'Philippines', 'Taiwan'], 'agency': ['OSHA', 'TSCA', 'CERCLA', 'SARA', 'CAA', 'SDWA']}\n",
      "{'countries': ['United States', 'Canada'], 'agency': ['OSHA', 'EPA', 'TSCA', 'WHMIS']}\n",
      "{'countries': ['United States', 'Canada'], 'agency': ['U.S. Federal Regulations', 'U.S. Department of Transportation', 'U.S. Department of Homeland Security', 'OSHA Occupational Safety and Health Administration', 'California Proposition 65', 'SARA', 'Clean Water Act', 'Clean Air Act', 'WHMIS']}\n",
      "{'countries': ['Unknown'], 'agency': ['CERCLA/SARA']}\n",
      "{'countries': ['Japan', 'South Korea', 'Australia', 'Canada', 'United States'], 'agency': ['ENCS', 'EINECS', 'KECL', 'AICS', 'DSL', 'TSCA', 'Canadian Hazardous Products Act', 'ACGIH', 'NIOSH', 'OSHA', 'IARC', 'NTP', 'MEXICO']}\n"
     ]
    }
   ],
   "execution_count": 24
  }
 ],
 "metadata": {
  "kernelspec": {
   "display_name": "Python 3",
   "language": "python",
   "name": "python3"
  },
  "language_info": {
   "codemirror_mode": {
    "name": "ipython",
    "version": 2
   },
   "file_extension": ".py",
   "mimetype": "text/x-python",
   "name": "python",
   "nbconvert_exporter": "python",
   "pygments_lexer": "ipython2",
   "version": "2.7.6"
  }
 },
 "nbformat": 4,
 "nbformat_minor": 5
}
